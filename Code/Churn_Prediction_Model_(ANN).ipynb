{
  "nbformat": 4,
  "nbformat_minor": 0,
  "metadata": {
    "colab": {
      "name": "Churn Prediction Model (ANN).ipynb",
      "provenance": [],
      "collapsed_sections": []
    },
    "kernelspec": {
      "name": "python3",
      "display_name": "Python 3"
    }
  },
  "cells": [
    {
      "cell_type": "markdown",
      "metadata": {
        "id": "ZujD5Q2HtS6i",
        "colab_type": "text"
      },
      "source": [
        "**Importing** **Libraries**"
      ]
    },
    {
      "cell_type": "code",
      "metadata": {
        "id": "EDmcfTsMsgfN",
        "colab_type": "code",
        "colab": {}
      },
      "source": [
        "import numpy as np\n",
        "import pandas as pd\n",
        "import tensorflow as tf"
      ],
      "execution_count": 1,
      "outputs": []
    },
    {
      "cell_type": "code",
      "metadata": {
        "id": "ZXbJ_lCQsgcQ",
        "colab_type": "code",
        "colab": {
          "base_uri": "https://localhost:8080/",
          "height": 34
        },
        "outputId": "aeba89a9-0035-4a79-85e6-37b47230f072"
      },
      "source": [
        "tf.__version__"
      ],
      "execution_count": 2,
      "outputs": [
        {
          "output_type": "execute_result",
          "data": {
            "application/vnd.google.colaboratory.intrinsic+json": {
              "type": "string"
            },
            "text/plain": [
              "'2.3.0'"
            ]
          },
          "metadata": {
            "tags": []
          },
          "execution_count": 2
        }
      ]
    },
    {
      "cell_type": "markdown",
      "metadata": {
        "id": "GFgN3GNXuM3G",
        "colab_type": "text"
      },
      "source": [
        "**Data** **Preprocessing**"
      ]
    },
    {
      "cell_type": "code",
      "metadata": {
        "id": "8150nBDjsgZu",
        "colab_type": "code",
        "colab": {
          "resources": {
            "http://localhost:8080/nbextensions/google.colab/files.js": {
              "data": "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",
              "ok": true,
              "headers": [
                [
                  "content-type",
                  "application/javascript"
                ]
              ],
              "status": 200,
              "status_text": ""
            }
          },
          "base_uri": "https://localhost:8080/",
          "height": 72
        },
        "outputId": "f53b3f4f-a6c9-47e8-92a9-9e67054561d2"
      },
      "source": [
        "from google.colab import files \n",
        "uploaded = files.upload() \n"
      ],
      "execution_count": 3,
      "outputs": [
        {
          "output_type": "display_data",
          "data": {
            "text/html": [
              "\n",
              "     <input type=\"file\" id=\"files-a484372e-18f2-43fa-b41c-ba21d5556cb4\" name=\"files[]\" multiple disabled\n",
              "        style=\"border:none\" />\n",
              "     <output id=\"result-a484372e-18f2-43fa-b41c-ba21d5556cb4\">\n",
              "      Upload widget is only available when the cell has been executed in the\n",
              "      current browser session. Please rerun this cell to enable.\n",
              "      </output>\n",
              "      <script src=\"/nbextensions/google.colab/files.js\"></script> "
            ],
            "text/plain": [
              "<IPython.core.display.HTML object>"
            ]
          },
          "metadata": {
            "tags": []
          }
        },
        {
          "output_type": "stream",
          "text": [
            "Saving Churn_Modelling.csv to Churn_Modelling.csv\n"
          ],
          "name": "stdout"
        }
      ]
    },
    {
      "cell_type": "code",
      "metadata": {
        "id": "qxLsqRaZsgXe",
        "colab_type": "code",
        "colab": {}
      },
      "source": [
        "import io \n",
        "dataset = pd.read_csv(io.BytesIO(uploaded['Churn_Modelling.csv'])) \n"
      ],
      "execution_count": 4,
      "outputs": []
    },
    {
      "cell_type": "code",
      "metadata": {
        "id": "pK5t6zqpsgV8",
        "colab_type": "code",
        "colab": {}
      },
      "source": [
        "X = dataset.iloc[:, 3:-1].values\n",
        "y = dataset.iloc[:, -1].values"
      ],
      "execution_count": 5,
      "outputs": []
    },
    {
      "cell_type": "code",
      "metadata": {
        "id": "-bXOIL-1sgTD",
        "colab_type": "code",
        "colab": {
          "base_uri": "https://localhost:8080/",
          "height": 138
        },
        "outputId": "368c9894-d9fc-45a7-baff-3bedd4214052"
      },
      "source": [
        "print(X)"
      ],
      "execution_count": 6,
      "outputs": [
        {
          "output_type": "stream",
          "text": [
            "[[619 'France' 'Female' ... 1 1 101348.88]\n",
            " [608 'Spain' 'Female' ... 0 1 112542.58]\n",
            " [502 'France' 'Female' ... 1 0 113931.57]\n",
            " ...\n",
            " [709 'France' 'Female' ... 0 1 42085.58]\n",
            " [772 'Germany' 'Male' ... 1 0 92888.52]\n",
            " [792 'France' 'Female' ... 1 0 38190.78]]\n"
          ],
          "name": "stdout"
        }
      ]
    },
    {
      "cell_type": "code",
      "metadata": {
        "id": "Gay13jvlsgQW",
        "colab_type": "code",
        "colab": {
          "base_uri": "https://localhost:8080/",
          "height": 34
        },
        "outputId": "7c45911f-b92a-4d69-cd2a-23b8feb98d7d"
      },
      "source": [
        "print(y)"
      ],
      "execution_count": 7,
      "outputs": [
        {
          "output_type": "stream",
          "text": [
            "[1 0 1 ... 1 1 0]\n"
          ],
          "name": "stdout"
        }
      ]
    },
    {
      "cell_type": "markdown",
      "metadata": {
        "id": "DIFAgu_Uh-SG",
        "colab_type": "text"
      },
      "source": [
        "**Encoding Categorical Data**"
      ]
    },
    {
      "cell_type": "markdown",
      "metadata": {
        "id": "P5q1GESbiWvo",
        "colab_type": "text"
      },
      "source": [
        "Label Encoding the \"General\" column"
      ]
    },
    {
      "cell_type": "code",
      "metadata": {
        "id": "TpeVz1qVh96s",
        "colab_type": "code",
        "colab": {
          "base_uri": "https://localhost:8080/",
          "height": 138
        },
        "outputId": "5b4d2e38-77af-408b-f9ce-5fc78a02b287"
      },
      "source": [
        "from sklearn.preprocessing import LabelEncoder\n",
        "le = LabelEncoder()\n",
        "X[:, 2] = le.fit_transform(X[:, 2])\n",
        "print(X)"
      ],
      "execution_count": 8,
      "outputs": [
        {
          "output_type": "stream",
          "text": [
            "[[619 'France' 0 ... 1 1 101348.88]\n",
            " [608 'Spain' 0 ... 0 1 112542.58]\n",
            " [502 'France' 0 ... 1 0 113931.57]\n",
            " ...\n",
            " [709 'France' 0 ... 0 1 42085.58]\n",
            " [772 'Germany' 1 ... 1 0 92888.52]\n",
            " [792 'France' 0 ... 1 0 38190.78]]\n"
          ],
          "name": "stdout"
        }
      ]
    },
    {
      "cell_type": "markdown",
      "metadata": {
        "id": "WcDso1d8FUCI",
        "colab_type": "text"
      },
      "source": [
        "**One Hot Encoding the \"Geography\" column**"
      ]
    },
    {
      "cell_type": "code",
      "metadata": {
        "id": "bu1RG6I6sgLZ",
        "colab_type": "code",
        "colab": {
          "base_uri": "https://localhost:8080/",
          "height": 138
        },
        "outputId": "5eb3ccb2-c719-44d3-b796-03801b649fd6"
      },
      "source": [
        "from sklearn.compose import ColumnTransformer\n",
        "from sklearn.preprocessing import OneHotEncoder\n",
        "ct = ColumnTransformer(transformers=[('encoder', OneHotEncoder(), [1])], remainder='passthrough')\n",
        "X = np.array(ct.fit_transform(X))\n",
        "print(X)"
      ],
      "execution_count": 9,
      "outputs": [
        {
          "output_type": "stream",
          "text": [
            "[[1.0 0.0 0.0 ... 1 1 101348.88]\n",
            " [0.0 0.0 1.0 ... 0 1 112542.58]\n",
            " [1.0 0.0 0.0 ... 1 0 113931.57]\n",
            " ...\n",
            " [1.0 0.0 0.0 ... 0 1 42085.58]\n",
            " [0.0 1.0 0.0 ... 1 0 92888.52]\n",
            " [1.0 0.0 0.0 ... 1 0 38190.78]]\n"
          ],
          "name": "stdout"
        }
      ]
    },
    {
      "cell_type": "markdown",
      "metadata": {
        "id": "kcMHJE_5Fd9O",
        "colab_type": "text"
      },
      "source": [
        "**Splitting the dataset into the Training set and Test set**"
      ]
    },
    {
      "cell_type": "code",
      "metadata": {
        "id": "APj15h7yTxyG",
        "colab_type": "code",
        "colab": {}
      },
      "source": [
        "from sklearn.model_selection import train_test_split\n",
        "X_train, X_test, y_train, y_test = train_test_split(X, y, test_size = 0.2, random_state = 0)"
      ],
      "execution_count": 11,
      "outputs": []
    },
    {
      "cell_type": "markdown",
      "metadata": {
        "id": "1auJdF0-H33F",
        "colab_type": "text"
      },
      "source": [
        "**Feature Scaling**"
      ]
    },
    {
      "cell_type": "code",
      "metadata": {
        "id": "iZgj14EkeMeJ",
        "colab_type": "code",
        "colab": {}
      },
      "source": [
        "from sklearn.preprocessing import StandardScaler\n",
        "sc = StandardScaler()\n",
        "X_train = sc.fit_transform(X_train)\n",
        "X_test = sc.transform(X_test)"
      ],
      "execution_count": 12,
      "outputs": []
    },
    {
      "cell_type": "markdown",
      "metadata": {
        "id": "eSUk-khwIEmR",
        "colab_type": "text"
      },
      "source": [
        "**Part 2 - Building the ANN**"
      ]
    },
    {
      "cell_type": "code",
      "metadata": {
        "id": "Gn9fVWKGfPqd",
        "colab_type": "code",
        "colab": {}
      },
      "source": [
        "# Initializing the ANN\n",
        "ann = tf.keras.models.Sequential()"
      ],
      "execution_count": 13,
      "outputs": []
    },
    {
      "cell_type": "code",
      "metadata": {
        "id": "3d0nJ21mHxA5",
        "colab_type": "code",
        "colab": {}
      },
      "source": [
        "# Adding the input layer and the first hidden layer\n",
        "ann.add(tf.keras.layers.Dense(units=6, activation='relu'))"
      ],
      "execution_count": 14,
      "outputs": []
    },
    {
      "cell_type": "code",
      "metadata": {
        "id": "SJPrDLnIHxRW",
        "colab_type": "code",
        "colab": {}
      },
      "source": [
        "# Adding the second hidden layer\n",
        "ann.add(tf.keras.layers.Dense(units=6, activation='relu'))"
      ],
      "execution_count": 15,
      "outputs": []
    },
    {
      "cell_type": "code",
      "metadata": {
        "id": "l_ZJjiUCHxYi",
        "colab_type": "code",
        "colab": {}
      },
      "source": [
        "# Adding the output layer\n",
        "ann.add(tf.keras.layers.Dense(units=1, activation='sigmoid'))"
      ],
      "execution_count": 16,
      "outputs": []
    },
    {
      "cell_type": "markdown",
      "metadata": {
        "id": "cRjm_J8us_32",
        "colab_type": "text"
      },
      "source": [
        "**Part 3 - Training the ANN**"
      ]
    },
    {
      "cell_type": "code",
      "metadata": {
        "id": "HqgIUglrHxgm",
        "colab_type": "code",
        "colab": {}
      },
      "source": [
        "# Compiling the ANN\n",
        "ann.compile(optimizer = 'adam', loss = 'binary_crossentropy', metrics = ['accuracy'])"
      ],
      "execution_count": 17,
      "outputs": []
    },
    {
      "cell_type": "code",
      "metadata": {
        "id": "QqR4lfLzHxqJ",
        "colab_type": "code",
        "colab": {
          "base_uri": "https://localhost:8080/",
          "height": 1000
        },
        "outputId": "1a8dff57-a5f7-4fb5-efbf-3eb78d7a449f"
      },
      "source": [
        "# Training the ANN on the Training set\n",
        "ann.fit(X_train, y_train, batch_size = 32, epochs = 100)"
      ],
      "execution_count": 20,
      "outputs": [
        {
          "output_type": "stream",
          "text": [
            "Epoch 1/100\n",
            "250/250 [==============================] - 0s 947us/step - loss: 0.3333 - accuracy: 0.8644\n",
            "Epoch 2/100\n",
            "250/250 [==============================] - 0s 889us/step - loss: 0.3329 - accuracy: 0.8655\n",
            "Epoch 3/100\n",
            "250/250 [==============================] - 0s 866us/step - loss: 0.3332 - accuracy: 0.8636\n",
            "Epoch 4/100\n",
            "250/250 [==============================] - 0s 865us/step - loss: 0.3327 - accuracy: 0.8651\n",
            "Epoch 5/100\n",
            "250/250 [==============================] - 0s 895us/step - loss: 0.3330 - accuracy: 0.8636\n",
            "Epoch 6/100\n",
            "250/250 [==============================] - 0s 877us/step - loss: 0.3328 - accuracy: 0.8650\n",
            "Epoch 7/100\n",
            "250/250 [==============================] - 0s 843us/step - loss: 0.3328 - accuracy: 0.8637\n",
            "Epoch 8/100\n",
            "250/250 [==============================] - 0s 862us/step - loss: 0.3329 - accuracy: 0.8639\n",
            "Epoch 9/100\n",
            "250/250 [==============================] - 0s 828us/step - loss: 0.3328 - accuracy: 0.8645\n",
            "Epoch 10/100\n",
            "250/250 [==============================] - 0s 884us/step - loss: 0.3326 - accuracy: 0.8643\n",
            "Epoch 11/100\n",
            "250/250 [==============================] - 0s 844us/step - loss: 0.3327 - accuracy: 0.8639\n",
            "Epoch 12/100\n",
            "250/250 [==============================] - 0s 855us/step - loss: 0.3325 - accuracy: 0.8644\n",
            "Epoch 13/100\n",
            "250/250 [==============================] - 0s 879us/step - loss: 0.3330 - accuracy: 0.8655\n",
            "Epoch 14/100\n",
            "250/250 [==============================] - 0s 836us/step - loss: 0.3328 - accuracy: 0.8636\n",
            "Epoch 15/100\n",
            "250/250 [==============================] - 0s 874us/step - loss: 0.3325 - accuracy: 0.8649\n",
            "Epoch 16/100\n",
            "250/250 [==============================] - 0s 952us/step - loss: 0.3328 - accuracy: 0.8649\n",
            "Epoch 17/100\n",
            "250/250 [==============================] - 0s 855us/step - loss: 0.3323 - accuracy: 0.8645\n",
            "Epoch 18/100\n",
            "250/250 [==============================] - 0s 887us/step - loss: 0.3328 - accuracy: 0.8655\n",
            "Epoch 19/100\n",
            "250/250 [==============================] - 0s 843us/step - loss: 0.3325 - accuracy: 0.8627\n",
            "Epoch 20/100\n",
            "250/250 [==============================] - 0s 907us/step - loss: 0.3324 - accuracy: 0.8637\n",
            "Epoch 21/100\n",
            "250/250 [==============================] - 0s 852us/step - loss: 0.3325 - accuracy: 0.8643\n",
            "Epoch 22/100\n",
            "250/250 [==============================] - 0s 861us/step - loss: 0.3328 - accuracy: 0.8646\n",
            "Epoch 23/100\n",
            "250/250 [==============================] - 0s 855us/step - loss: 0.3326 - accuracy: 0.8641\n",
            "Epoch 24/100\n",
            "250/250 [==============================] - 0s 894us/step - loss: 0.3327 - accuracy: 0.8650\n",
            "Epoch 25/100\n",
            "250/250 [==============================] - 0s 868us/step - loss: 0.3326 - accuracy: 0.8636\n",
            "Epoch 26/100\n",
            "250/250 [==============================] - 0s 877us/step - loss: 0.3325 - accuracy: 0.8644\n",
            "Epoch 27/100\n",
            "250/250 [==============================] - 0s 850us/step - loss: 0.3325 - accuracy: 0.8648\n",
            "Epoch 28/100\n",
            "250/250 [==============================] - 0s 894us/step - loss: 0.3327 - accuracy: 0.8658\n",
            "Epoch 29/100\n",
            "250/250 [==============================] - 0s 892us/step - loss: 0.3324 - accuracy: 0.8648\n",
            "Epoch 30/100\n",
            "250/250 [==============================] - 0s 889us/step - loss: 0.3326 - accuracy: 0.8646\n",
            "Epoch 31/100\n",
            "250/250 [==============================] - 0s 844us/step - loss: 0.3323 - accuracy: 0.8654\n",
            "Epoch 32/100\n",
            "250/250 [==============================] - 0s 868us/step - loss: 0.3323 - accuracy: 0.8649\n",
            "Epoch 33/100\n",
            "250/250 [==============================] - 0s 890us/step - loss: 0.3322 - accuracy: 0.8658\n",
            "Epoch 34/100\n",
            "250/250 [==============================] - 0s 845us/step - loss: 0.3327 - accuracy: 0.8637\n",
            "Epoch 35/100\n",
            "250/250 [==============================] - 0s 876us/step - loss: 0.3324 - accuracy: 0.8644\n",
            "Epoch 36/100\n",
            "250/250 [==============================] - 0s 854us/step - loss: 0.3324 - accuracy: 0.8630\n",
            "Epoch 37/100\n",
            "250/250 [==============================] - 0s 879us/step - loss: 0.3327 - accuracy: 0.8648\n",
            "Epoch 38/100\n",
            "250/250 [==============================] - 0s 914us/step - loss: 0.3323 - accuracy: 0.8637\n",
            "Epoch 39/100\n",
            "250/250 [==============================] - 0s 862us/step - loss: 0.3323 - accuracy: 0.8654\n",
            "Epoch 40/100\n",
            "250/250 [==============================] - 0s 849us/step - loss: 0.3320 - accuracy: 0.8646\n",
            "Epoch 41/100\n",
            "250/250 [==============================] - 0s 873us/step - loss: 0.3326 - accuracy: 0.8648\n",
            "Epoch 42/100\n",
            "250/250 [==============================] - 0s 875us/step - loss: 0.3325 - accuracy: 0.8629\n",
            "Epoch 43/100\n",
            "250/250 [==============================] - 0s 906us/step - loss: 0.3325 - accuracy: 0.8660\n",
            "Epoch 44/100\n",
            "250/250 [==============================] - 0s 846us/step - loss: 0.3326 - accuracy: 0.8645\n",
            "Epoch 45/100\n",
            "250/250 [==============================] - 0s 845us/step - loss: 0.3322 - accuracy: 0.8648\n",
            "Epoch 46/100\n",
            "250/250 [==============================] - 0s 864us/step - loss: 0.3325 - accuracy: 0.8646\n",
            "Epoch 47/100\n",
            "250/250 [==============================] - 0s 866us/step - loss: 0.3321 - accuracy: 0.8658\n",
            "Epoch 48/100\n",
            "250/250 [==============================] - 0s 857us/step - loss: 0.3322 - accuracy: 0.8649\n",
            "Epoch 49/100\n",
            "250/250 [==============================] - 0s 838us/step - loss: 0.3323 - accuracy: 0.8645\n",
            "Epoch 50/100\n",
            "250/250 [==============================] - 0s 859us/step - loss: 0.3323 - accuracy: 0.8648\n",
            "Epoch 51/100\n",
            "250/250 [==============================] - 0s 849us/step - loss: 0.3321 - accuracy: 0.8643\n",
            "Epoch 52/100\n",
            "250/250 [==============================] - 0s 899us/step - loss: 0.3319 - accuracy: 0.8650\n",
            "Epoch 53/100\n",
            "250/250 [==============================] - 0s 843us/step - loss: 0.3321 - accuracy: 0.8659\n",
            "Epoch 54/100\n",
            "250/250 [==============================] - 0s 844us/step - loss: 0.3322 - accuracy: 0.8634\n",
            "Epoch 55/100\n",
            "250/250 [==============================] - 0s 872us/step - loss: 0.3320 - accuracy: 0.8651\n",
            "Epoch 56/100\n",
            "250/250 [==============================] - 0s 858us/step - loss: 0.3317 - accuracy: 0.8633\n",
            "Epoch 57/100\n",
            "250/250 [==============================] - 0s 876us/step - loss: 0.3319 - accuracy: 0.8648\n",
            "Epoch 58/100\n",
            "250/250 [==============================] - 0s 860us/step - loss: 0.3320 - accuracy: 0.8644\n",
            "Epoch 59/100\n",
            "250/250 [==============================] - 0s 874us/step - loss: 0.3316 - accuracy: 0.8639\n",
            "Epoch 60/100\n",
            "250/250 [==============================] - 0s 860us/step - loss: 0.3319 - accuracy: 0.8648\n",
            "Epoch 61/100\n",
            "250/250 [==============================] - 0s 905us/step - loss: 0.3320 - accuracy: 0.8646\n",
            "Epoch 62/100\n",
            "250/250 [==============================] - 0s 858us/step - loss: 0.3316 - accuracy: 0.8645\n",
            "Epoch 63/100\n",
            "250/250 [==============================] - 0s 849us/step - loss: 0.3314 - accuracy: 0.8649\n",
            "Epoch 64/100\n",
            "250/250 [==============================] - 0s 872us/step - loss: 0.3318 - accuracy: 0.8640\n",
            "Epoch 65/100\n",
            "250/250 [==============================] - 0s 895us/step - loss: 0.3318 - accuracy: 0.8652\n",
            "Epoch 66/100\n",
            "250/250 [==============================] - 0s 867us/step - loss: 0.3318 - accuracy: 0.8645\n",
            "Epoch 67/100\n",
            "250/250 [==============================] - 0s 875us/step - loss: 0.3316 - accuracy: 0.8652\n",
            "Epoch 68/100\n",
            "250/250 [==============================] - 0s 873us/step - loss: 0.3317 - accuracy: 0.8650\n",
            "Epoch 69/100\n",
            "250/250 [==============================] - 0s 842us/step - loss: 0.3314 - accuracy: 0.8636\n",
            "Epoch 70/100\n",
            "250/250 [==============================] - 0s 884us/step - loss: 0.3314 - accuracy: 0.8637\n",
            "Epoch 71/100\n",
            "250/250 [==============================] - 0s 900us/step - loss: 0.3318 - accuracy: 0.8640\n",
            "Epoch 72/100\n",
            "250/250 [==============================] - 0s 882us/step - loss: 0.3318 - accuracy: 0.8650\n",
            "Epoch 73/100\n",
            "250/250 [==============================] - 0s 852us/step - loss: 0.3313 - accuracy: 0.8641\n",
            "Epoch 74/100\n",
            "250/250 [==============================] - 0s 898us/step - loss: 0.3312 - accuracy: 0.8644\n",
            "Epoch 75/100\n",
            "250/250 [==============================] - 0s 853us/step - loss: 0.3314 - accuracy: 0.8643\n",
            "Epoch 76/100\n",
            "250/250 [==============================] - 0s 844us/step - loss: 0.3311 - accuracy: 0.8644\n",
            "Epoch 77/100\n",
            "250/250 [==============================] - 0s 890us/step - loss: 0.3315 - accuracy: 0.8643\n",
            "Epoch 78/100\n",
            "250/250 [==============================] - 0s 848us/step - loss: 0.3312 - accuracy: 0.8646\n",
            "Epoch 79/100\n",
            "250/250 [==============================] - 0s 889us/step - loss: 0.3316 - accuracy: 0.8650\n",
            "Epoch 80/100\n",
            "250/250 [==============================] - 0s 855us/step - loss: 0.3309 - accuracy: 0.8648\n",
            "Epoch 81/100\n",
            "250/250 [==============================] - 0s 891us/step - loss: 0.3310 - accuracy: 0.8645\n",
            "Epoch 82/100\n",
            "250/250 [==============================] - 0s 892us/step - loss: 0.3311 - accuracy: 0.8644\n",
            "Epoch 83/100\n",
            "250/250 [==============================] - 0s 867us/step - loss: 0.3317 - accuracy: 0.8645\n",
            "Epoch 84/100\n",
            "250/250 [==============================] - 0s 847us/step - loss: 0.3313 - accuracy: 0.8637\n",
            "Epoch 85/100\n",
            "250/250 [==============================] - 0s 860us/step - loss: 0.3311 - accuracy: 0.8636\n",
            "Epoch 86/100\n",
            "250/250 [==============================] - 0s 847us/step - loss: 0.3310 - accuracy: 0.8650\n",
            "Epoch 87/100\n",
            "250/250 [==============================] - 0s 857us/step - loss: 0.3312 - accuracy: 0.8643\n",
            "Epoch 88/100\n",
            "250/250 [==============================] - 0s 879us/step - loss: 0.3308 - accuracy: 0.8651\n",
            "Epoch 89/100\n",
            "250/250 [==============================] - 0s 851us/step - loss: 0.3308 - accuracy: 0.8649\n",
            "Epoch 90/100\n",
            "250/250 [==============================] - 0s 868us/step - loss: 0.3310 - accuracy: 0.8649\n",
            "Epoch 91/100\n",
            "250/250 [==============================] - 0s 848us/step - loss: 0.3309 - accuracy: 0.8645\n",
            "Epoch 92/100\n",
            "250/250 [==============================] - 0s 878us/step - loss: 0.3309 - accuracy: 0.8643\n",
            "Epoch 93/100\n",
            "250/250 [==============================] - 0s 895us/step - loss: 0.3308 - accuracy: 0.8636\n",
            "Epoch 94/100\n",
            "250/250 [==============================] - 0s 862us/step - loss: 0.3305 - accuracy: 0.8656\n",
            "Epoch 95/100\n",
            "250/250 [==============================] - 0s 833us/step - loss: 0.3308 - accuracy: 0.8659\n",
            "Epoch 96/100\n",
            "250/250 [==============================] - 0s 884us/step - loss: 0.3303 - accuracy: 0.8646\n",
            "Epoch 97/100\n",
            "250/250 [==============================] - 0s 909us/step - loss: 0.3307 - accuracy: 0.8639\n",
            "Epoch 98/100\n",
            "250/250 [==============================] - 0s 834us/step - loss: 0.3304 - accuracy: 0.8645\n",
            "Epoch 99/100\n",
            "250/250 [==============================] - 0s 860us/step - loss: 0.3307 - accuracy: 0.8641\n",
            "Epoch 100/100\n",
            "250/250 [==============================] - 0s 849us/step - loss: 0.3307 - accuracy: 0.8640\n"
          ],
          "name": "stdout"
        },
        {
          "output_type": "execute_result",
          "data": {
            "text/plain": [
              "<tensorflow.python.keras.callbacks.History at 0x7faa13f1be48>"
            ]
          },
          "metadata": {
            "tags": []
          },
          "execution_count": 20
        }
      ]
    },
    {
      "cell_type": "markdown",
      "metadata": {
        "id": "o_gjsah8tQBi",
        "colab_type": "text"
      },
      "source": [
        "## **Part 4 - Making the predictions and evaluating the model**"
      ]
    },
    {
      "cell_type": "code",
      "metadata": {
        "id": "Z0N4mcb_HxlR",
        "colab_type": "code",
        "colab": {
          "base_uri": "https://localhost:8080/",
          "height": 138
        },
        "outputId": "837517c4-a6f7-46fc-d054-9f5d72e023ac"
      },
      "source": [
        "# Predicting the Test set results\n",
        "y_pred = ann.predict(X_test)\n",
        "y_pred = (y_pred > 0.5)\n",
        "print(np.concatenate((y_pred.reshape(len(y_pred),1), y_test.reshape(len(y_test),1)),1))"
      ],
      "execution_count": 22,
      "outputs": [
        {
          "output_type": "stream",
          "text": [
            "[[0 0]\n",
            " [0 1]\n",
            " [0 0]\n",
            " ...\n",
            " [0 0]\n",
            " [0 0]\n",
            " [0 0]]\n"
          ],
          "name": "stdout"
        }
      ]
    },
    {
      "cell_type": "code",
      "metadata": {
        "id": "UQAvujfYHxdV",
        "colab_type": "code",
        "colab": {
          "base_uri": "https://localhost:8080/",
          "height": 69
        },
        "outputId": "c93f3486-0a2c-421e-8c0d-db6164609878"
      },
      "source": [
        "# Making the Confusion Matrix\n",
        "from sklearn.metrics import confusion_matrix, accuracy_score\n",
        "cm = confusion_matrix(y_test, y_pred)\n",
        "print(cm)\n",
        "accuracy_score(y_test, y_pred)"
      ],
      "execution_count": 23,
      "outputs": [
        {
          "output_type": "stream",
          "text": [
            "[[1519   76]\n",
            " [ 193  212]]\n"
          ],
          "name": "stdout"
        },
        {
          "output_type": "execute_result",
          "data": {
            "text/plain": [
              "0.8655"
            ]
          },
          "metadata": {
            "tags": []
          },
          "execution_count": 23
        }
      ]
    },
    {
      "cell_type": "code",
      "metadata": {
        "id": "ckvcwiL8HxVw",
        "colab_type": "code",
        "colab": {}
      },
      "source": [
        ""
      ],
      "execution_count": null,
      "outputs": []
    },
    {
      "cell_type": "code",
      "metadata": {
        "id": "FpwzFd40HxUF",
        "colab_type": "code",
        "colab": {}
      },
      "source": [
        ""
      ],
      "execution_count": null,
      "outputs": []
    },
    {
      "cell_type": "code",
      "metadata": {
        "id": "NBaYxVERHxFb",
        "colab_type": "code",
        "colab": {}
      },
      "source": [
        ""
      ],
      "execution_count": null,
      "outputs": []
    },
    {
      "cell_type": "code",
      "metadata": {
        "id": "xjAxCtKyHxDt",
        "colab_type": "code",
        "colab": {}
      },
      "source": [
        ""
      ],
      "execution_count": null,
      "outputs": []
    },
    {
      "cell_type": "code",
      "metadata": {
        "id": "YAUdXVvhHw9w",
        "colab_type": "code",
        "colab": {}
      },
      "source": [
        ""
      ],
      "execution_count": null,
      "outputs": []
    },
    {
      "cell_type": "code",
      "metadata": {
        "id": "-4s5WZgRHw8O",
        "colab_type": "code",
        "colab": {}
      },
      "source": [
        ""
      ],
      "execution_count": null,
      "outputs": []
    }
  ]
}